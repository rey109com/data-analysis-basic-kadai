{
  "nbformat": 4,
  "nbformat_minor": 0,
  "metadata": {
    "colab": {
      "provenance": []
    },
    "kernelspec": {
      "name": "python3",
      "display_name": "Python 3"
    },
    "language_info": {
      "name": "python"
    }
  },
  "cells": [
    {
      "cell_type": "code",
      "source": [
        "import numpy as np\n",
        "\n",
        "A = np.array([[0, 1], [2, 3], [4, 5]])\n",
        "B = np.array([[0, 1, 2, 3], [4, 5, 6, 7]])\n",
        "C = np.dot(A, B)\n",
        "\n",
        "print(\"行列の積：\")\n",
        "print(C)\n",
        "\n",
        "max_value = np.max(C)\n",
        "print(\"計算された行列の最大値：\", max_value)"
      ],
      "metadata": {
        "colab": {
          "base_uri": "https://localhost:8080/"
        },
        "id": "-9CHD8AzYzHt",
        "outputId": "d2826584-ca74-482a-f7c3-8e1b3257c696"
      },
      "execution_count": 67,
      "outputs": [
        {
          "output_type": "stream",
          "name": "stdout",
          "text": [
            "行列の積：\n",
            "[[ 4  5  6  7]\n",
            " [12 17 22 27]\n",
            " [20 29 38 47]]\n",
            "計算された行列の最大値： 47\n"
          ]
        }
      ]
    }
  ]
}